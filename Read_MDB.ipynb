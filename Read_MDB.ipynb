{
 "cells": [
  {
   "cell_type": "code",
   "execution_count": 1,
   "metadata": {},
   "outputs": [],
   "source": [
    "import csv, pyodbc\n",
    "import pandas as pd"
   ]
  },
  {
   "cell_type": "code",
   "execution_count": 5,
   "metadata": {},
   "outputs": [
    {
     "name": "stdout",
     "output_type": "stream",
     "text": [
      "T_AggregatInfo 564\n",
      "T_ALARM_BAND 5824\n",
      "T_ALARM_GROUP 5257\n",
      "T_AlarmInfo 9267\n",
      "T_ALARMINFO_BASEDATA 12\n",
      "T_BearInfo 5935\n",
      "T_DATA_HISTORY 12684\n",
      "T_DB_CFG 2\n",
      "T_dbaInfo 2006\n",
      "T_dbVersion 1\n",
      "T_Device 1\n",
      "T_DeviceSetupData 53\n",
      "T_DeviceType 2\n",
      "T_DisplayInfo 20620\n",
      "T_Event 802\n",
      "T_FreqSet 8\n",
      "T_Frequency 23\n",
      "T_GearInfo 53\n",
      "T_GearWheel 198\n",
      "T_JobInfo 22600\n",
      "T_LocationInfo 104\n",
      "T_MachineInfo 1474\n",
      "T_Marker 17155\n",
      "T_MeasSetup 53\n",
      "T_MeasType 45\n",
      "T_MeasValue 9587\n",
      "T_mnJobSensors 22600\n",
      "T_mnMoBearing 18916\n",
      "T_mnMoFreqset 8\n",
      "T_mnMoGear 53\n",
      "T_mnMultiView 82\n",
      "T_mnTreeMo 39229\n",
      "T_mnWheelWheel 102\n",
      "T_MO 21530\n",
      "T_MPInfo 10333\n",
      "T_NODE_FILES 61\n",
      "T_NodeBitmaps 8772\n",
      "T_Registration 1\n",
      "T_Route_Device 8\n",
      "T_RouteEntry 1225\n",
      "T_RouteInfo 6\n",
      "T_SensorInfo 56\n",
      "T_SoftFeatures 4\n",
      "T_TEMPLATE_INFO 1\n",
      "T_TEMPLATEENTRY 12\n",
      "T_TreeInfo 35075\n",
      "T_UPLOAD_REPORT_HISTORY 177\n",
      "T_UserInfo 6\n",
      "WebOMT_Categories 6\n",
      "WebOMT_UserGroup 5\n",
      "WebOMT_UserInGroup 6\n"
     ]
    }
   ],
   "source": [
    "# set up some constants\n",
    "conn_str = (\n",
    "    r'DRIVER={Microsoft Access Driver (*.mdb, *.accdb)};'\n",
    "    #r'DBQ=C:\\Users\\Nepsh\\OneDrive\\Документы\\GitHub\\Smart_Diagnosis\\ао ук кузбассразрезуголь_1225.mdb;'\n",
    "    r'DBQ=D:\\One Drive\\OneDrive\\Документы\\GitHub\\Smart_Diagnosis\\ао ук кузбассразрезуголь_1225.mdb;'\n",
    "    )\n",
    "# connect to db\n",
    "cnxn = pyodbc.connect(conn_str)\n",
    "crsr = cnxn.cursor()\n",
    "for table_info in crsr.tables(tableType='TABLE'):\n",
    "    crsr = cnxn.cursor()\n",
    "    sql = str('SELECT count(*) as tot FROM' + ' ' + table_info.table_name)\n",
    "    #sql = str('SELECT * FROM' + ' ' + table_info.table_name)\n",
    "    #print(data)\n",
    "    #cnxn.commit()\n",
    "    row_number=crsr.execute(sql).fetchall()\n",
    "    row_number1=row_number[0]\n",
    "    #print(row_number1[0])\n",
    "    if row_number1[0] != 0:\n",
    "        print(table_info.table_name, row_number1[0])\n",
    "    crsr.close()\n",
    "crsr = cnxn.cursor()"
   ]
  },
  {
   "cell_type": "code",
   "execution_count": 6,
   "metadata": {},
   "outputs": [
    {
     "name": "stdout",
     "output_type": "stream",
     "text": [
      "[(1, '00002802', 1, None, None, None, None, None, None, None, None, 'BIKBPQNK', 0)]\n",
      "DATAHIST_ID\n",
      "JOBID\n",
      "OMNI_IMPORT_TIME\n",
      "IMPORT_TYPE\n",
      "MEAS_START_TIME\n",
      "MEAS_FINISH_TIME\n"
     ]
    }
   ],
   "source": [
    "  \n",
    "# run a query and get the results \n",
    "SQL = 'SELECT * FROM T_Device;' # your query goes here\n",
    "rows = crsr.execute(SQL).fetchall()\n",
    "print(rows)\n",
    "\n",
    "df = pd.DataFrame(rows)\n",
    "\n",
    "\n",
    "# columns in table x\n",
    "for row in crsr.columns(table='T_DATA_HISTORY'):\n",
    "    print(row.column_name)\n",
    "\n",
    "df.to_csv('DATA_EXPORT/rows.csv', index = False)    \n"
   ]
  },
  {
   "cell_type": "code",
   "execution_count": 38,
   "metadata": {},
   "outputs": [
    {
     "name": "stdout",
     "output_type": "stream",
     "text": [
      "[(0, )]\n"
     ]
    }
   ],
   "source": [
    "sql = 'SELECT count(*) as tot FROM T_ACTIVE_FINDING_CODES'\n",
    "data = crsr.execute(sql).fetchall()\n",
    "print(data)"
   ]
  },
  {
   "cell_type": "code",
   "execution_count": 26,
   "metadata": {},
   "outputs": [],
   "source": [
    "sql = 'SELECT count(*) as tot FROM' + ' ' + dat"
   ]
  },
  {
   "cell_type": "code",
   "execution_count": 27,
   "metadata": {},
   "outputs": [
    {
     "name": "stdout",
     "output_type": "stream",
     "text": [
      "SELECT count(*) as tot FROM dsd\n"
     ]
    }
   ],
   "source": [
    "print(sql)"
   ]
  },
  {
   "cell_type": "code",
   "execution_count": 61,
   "metadata": {},
   "outputs": [
    {
     "name": "stdout",
     "output_type": "stream",
     "text": [
      "[(1, )]\n"
     ]
    }
   ],
   "source": [
    "sql=\"SELECT COUNT(*) FROM T_Device\"\n",
    "data = crsr.execute(sql).fetchall()\n",
    "print(data)"
   ]
  },
  {
   "cell_type": "code",
   "execution_count": 55,
   "metadata": {},
   "outputs": [
    {
     "ename": "SyntaxError",
     "evalue": "EOF while scanning triple-quoted string literal (<ipython-input-55-a808f9ee8cd8>, line 1)",
     "output_type": "error",
     "traceback": [
      "\u001b[1;36m  File \u001b[1;32m\"<ipython-input-55-a808f9ee8cd8>\"\u001b[1;36m, line \u001b[1;32m1\u001b[0m\n\u001b[1;33m    x=\"\\dfdf\\\"dfdfd/\"\"\"\"\"\"\u001b[0m\n\u001b[1;37m                          ^\u001b[0m\n\u001b[1;31mSyntaxError\u001b[0m\u001b[1;31m:\u001b[0m EOF while scanning triple-quoted string literal\n"
     ]
    }
   ],
   "source": [
    "x=\"\\dfdf\\\"dfdfd/\"\"\"\"\"\""
   ]
  },
  {
   "cell_type": "code",
   "execution_count": 56,
   "metadata": {},
   "outputs": [],
   "source": [
    "query=\"SELECT COUNT(*) FROM information_schema.columns WHERE table_name= \\\"T_Device\\\"\""
   ]
  },
  {
   "cell_type": "code",
   "execution_count": 57,
   "metadata": {},
   "outputs": [
    {
     "name": "stdout",
     "output_type": "stream",
     "text": [
      "SELECT COUNT(*) FROM information_schema.columns WHERE table_name= \"T_Device\"\n"
     ]
    }
   ],
   "source": [
    "print(query)"
   ]
  }
 ],
 "metadata": {
  "kernelspec": {
   "display_name": "Python 3 (ipykernel)",
   "language": "python",
   "name": "python3"
  },
  "language_info": {
   "codemirror_mode": {
    "name": "ipython",
    "version": 3
   },
   "file_extension": ".py",
   "mimetype": "text/x-python",
   "name": "python",
   "nbconvert_exporter": "python",
   "pygments_lexer": "ipython3",
   "version": "3.8.3"
  }
 },
 "nbformat": 4,
 "nbformat_minor": 4
}
