{
 "cells": [
  {
   "cell_type": "code",
   "execution_count": 133,
   "metadata": {
    "pycharm": {
     "is_executing": true
    }
   },
   "outputs": [],
   "source": [
    "import pandas as pd\n",
    "import matplotlib.pyplot as plt\n",
    "import numpy as np\n",
    "from numpy import cov\n",
    "import csv\n",
    "import glob\n",
    "from scipy.stats import pearsonr,spearmanr"
   ]
  },
  {
   "cell_type": "markdown",
   "metadata": {},
   "source": [
    "## 1. Ввод данных"
   ]
  },
  {
   "cell_type": "code",
   "execution_count": 152,
   "metadata": {},
   "outputs": [
    {
     "name": "stdout",
     "output_type": "stream",
     "text": [
      "['DATA\\\\Daily Report 2-1-2021.xlsx', 'DATA\\\\Daily Report 2-10-2021.XLSX', 'DATA\\\\Daily Report 2-11-2021.XLSX', 'DATA\\\\Daily Report 2-12-2021.XLSX', 'DATA\\\\Daily Report 2-13-2021.XLSX', 'DATA\\\\Daily Report 2-14-2021.XLSX', 'DATA\\\\Daily Report 2-15-2021.XLSX', 'DATA\\\\Daily Report 2-16-2021.XLSX', 'DATA\\\\Daily Report 2-18-2021.XLSX', 'DATA\\\\Daily Report 2-19-2021.XLSX', 'DATA\\\\Daily Report 2-2-2021.xlsx', 'DATA\\\\Daily Report 2-20-2021.XLSX', 'DATA\\\\Daily Report 2-21-2021.XLSX', 'DATA\\\\Daily Report 2-22-2021.XLSX', 'DATA\\\\Daily Report 2-23-2021.XLSX', 'DATA\\\\Daily Report 2-24-2021.XLSX', 'DATA\\\\Daily Report 2-25-2021.XLSX', 'DATA\\\\Daily Report 2-26-2021.XLSX', 'DATA\\\\Daily Report 2-27-2021.XLSX', 'DATA\\\\Daily Report 2-28-2021.XLSX', 'DATA\\\\Daily Report 2-3-2021.XLSX', 'DATA\\\\Daily Report 2-4-2021.XLSX', 'DATA\\\\Daily Report 2-5-2021.XLSX', 'DATA\\\\Daily Report 2-6-2021.XLSX', 'DATA\\\\Daily Report 2-7-2021.XLSX', 'DATA\\\\Daily Report 2-8-2021.XLSX', 'DATA\\\\Daily Report 2-9-2021.XLSX', 'DATA\\\\Daily Report 3-1-2021.XLSX']\n"
     ]
    }
   ],
   "source": [
    "# specifying the path to csv files\n",
    "path = \"DATA/\"\n",
    "# xlsx files in the path\n",
    "file_list = glob.glob(path + \"/*.xlsx\")\n",
    "print(file_list)"
   ]
  },
  {
   "cell_type": "code",
   "execution_count": 153,
   "metadata": {},
   "outputs": [
    {
     "data": {
      "text/html": [
       "<div>\n",
       "<style scoped>\n",
       "    .dataframe tbody tr th:only-of-type {\n",
       "        vertical-align: middle;\n",
       "    }\n",
       "\n",
       "    .dataframe tbody tr th {\n",
       "        vertical-align: top;\n",
       "    }\n",
       "\n",
       "    .dataframe thead th {\n",
       "        text-align: right;\n",
       "    }\n",
       "</style>\n",
       "<table border=\"1\" class=\"dataframe\">\n",
       "  <thead>\n",
       "    <tr style=\"text-align: right;\">\n",
       "      <th></th>\n",
       "      <th>timestamp</th>\n",
       "      <th>Hydraulic BAR Pressure bar</th>\n",
       "      <th>Current Curve Selected</th>\n",
       "      <th>Bowl Speed RPM RPM</th>\n",
       "      <th>Differential Speed RPM</th>\n",
       "      <th>Sludge Flow m3h</th>\n",
       "      <th>Centrifuge Vibration mm/sec</th>\n",
       "      <th>Solids End Bearing Temp Â°C</th>\n",
       "      <th>Liquid End Bearing Temp Â°C</th>\n",
       "      <th>SCI Scale Weight</th>\n",
       "      <th>SCI Scale Totalizer</th>\n",
       "      <th>Diverter Open %</th>\n",
       "      <th>Lube Flow Solid End</th>\n",
       "      <th>Lube Flow Liquid A</th>\n",
       "      <th>Lube Flow Liquid B</th>\n",
       "      <th>Hydraulic Temp</th>\n",
       "      <th>Bowl Speed %</th>\n",
       "    </tr>\n",
       "  </thead>\n",
       "  <tbody>\n",
       "    <tr>\n",
       "      <th>0</th>\n",
       "      <td>2021-02-01 00:00:00</td>\n",
       "      <td>78.531898</td>\n",
       "      <td>1</td>\n",
       "      <td>1711</td>\n",
       "      <td>11.932508</td>\n",
       "      <td>86.082176</td>\n",
       "      <td>1.867694</td>\n",
       "      <td>76.106628</td>\n",
       "      <td>82.533424</td>\n",
       "      <td>9.548612</td>\n",
       "      <td>51010</td>\n",
       "      <td>100.0</td>\n",
       "      <td>91.634109</td>\n",
       "      <td>100.025322</td>\n",
       "      <td>92.494934</td>\n",
       "      <td>52.535667</td>\n",
       "      <td>69</td>\n",
       "    </tr>\n",
       "    <tr>\n",
       "      <th>1</th>\n",
       "      <td>2021-02-01 00:00:15</td>\n",
       "      <td>87.131073</td>\n",
       "      <td>1</td>\n",
       "      <td>1786</td>\n",
       "      <td>12.011719</td>\n",
       "      <td>38.682724</td>\n",
       "      <td>3.063368</td>\n",
       "      <td>76.118706</td>\n",
       "      <td>82.527382</td>\n",
       "      <td>7.646484</td>\n",
       "      <td>51010</td>\n",
       "      <td>100.0</td>\n",
       "      <td>91.116898</td>\n",
       "      <td>100.047012</td>\n",
       "      <td>92.715569</td>\n",
       "      <td>52.535667</td>\n",
       "      <td>72</td>\n",
       "    </tr>\n",
       "    <tr>\n",
       "      <th>2</th>\n",
       "      <td>2021-02-01 00:00:30</td>\n",
       "      <td>87.131073</td>\n",
       "      <td>1</td>\n",
       "      <td>1786</td>\n",
       "      <td>12.011719</td>\n",
       "      <td>38.682724</td>\n",
       "      <td>3.063368</td>\n",
       "      <td>76.118706</td>\n",
       "      <td>82.527382</td>\n",
       "      <td>7.646484</td>\n",
       "      <td>51010</td>\n",
       "      <td>100.0</td>\n",
       "      <td>91.116898</td>\n",
       "      <td>100.047012</td>\n",
       "      <td>92.715569</td>\n",
       "      <td>52.535667</td>\n",
       "      <td>72</td>\n",
       "    </tr>\n",
       "    <tr>\n",
       "      <th>3</th>\n",
       "      <td>2021-02-01 00:00:45</td>\n",
       "      <td>79.038269</td>\n",
       "      <td>1</td>\n",
       "      <td>1740</td>\n",
       "      <td>11.949870</td>\n",
       "      <td>363.299347</td>\n",
       "      <td>2.782335</td>\n",
       "      <td>76.118706</td>\n",
       "      <td>82.551537</td>\n",
       "      <td>7.327474</td>\n",
       "      <td>51010</td>\n",
       "      <td>100.0</td>\n",
       "      <td>90.917969</td>\n",
       "      <td>100.025322</td>\n",
       "      <td>92.661316</td>\n",
       "      <td>52.535667</td>\n",
       "      <td>70</td>\n",
       "    </tr>\n",
       "  </tbody>\n",
       "</table>\n",
       "</div>"
      ],
      "text/plain": [
       "            timestamp  Hydraulic BAR Pressure bar  Current Curve Selected  \\\n",
       "0 2021-02-01 00:00:00                   78.531898                       1   \n",
       "1 2021-02-01 00:00:15                   87.131073                       1   \n",
       "2 2021-02-01 00:00:30                   87.131073                       1   \n",
       "3 2021-02-01 00:00:45                   79.038269                       1   \n",
       "\n",
       "   Bowl Speed RPM RPM  Differential Speed RPM  Sludge Flow m3h  \\\n",
       "0                1711               11.932508        86.082176   \n",
       "1                1786               12.011719        38.682724   \n",
       "2                1786               12.011719        38.682724   \n",
       "3                1740               11.949870       363.299347   \n",
       "\n",
       "   Centrifuge Vibration mm/sec  Solids End Bearing Temp Â°C  \\\n",
       "0                     1.867694                    76.106628   \n",
       "1                     3.063368                    76.118706   \n",
       "2                     3.063368                    76.118706   \n",
       "3                     2.782335                    76.118706   \n",
       "\n",
       "   Liquid End Bearing Temp Â°C  SCI Scale Weight  SCI Scale Totalizer  \\\n",
       "0                    82.533424          9.548612                51010   \n",
       "1                    82.527382          7.646484                51010   \n",
       "2                    82.527382          7.646484                51010   \n",
       "3                    82.551537          7.327474                51010   \n",
       "\n",
       "   Diverter Open %  Lube Flow Solid End  Lube Flow Liquid A  \\\n",
       "0            100.0            91.634109          100.025322   \n",
       "1            100.0            91.116898          100.047012   \n",
       "2            100.0            91.116898          100.047012   \n",
       "3            100.0            90.917969          100.025322   \n",
       "\n",
       "   Lube Flow Liquid B  Hydraulic Temp  Bowl Speed %  \n",
       "0           92.494934       52.535667            69  \n",
       "1           92.715569       52.535667            72  \n",
       "2           92.715569       52.535667            72  \n",
       "3           92.661316       52.535667            70  "
      ]
     },
     "execution_count": 153,
     "metadata": {},
     "output_type": "execute_result"
    }
   ],
   "source": [
    "excl_list = []\n",
    "for file in file_list:\n",
    "    df = pd.read_excel(file, sheet_name='Daily', usecols=\"A:R\", skiprows=0,nrows=5760, header = 0)\n",
    "    df = pd.DataFrame(df) #преобразование в датафрейм\n",
    "    df[[\"Date\",\"Time\"]]=df[[\"Date\",\"Time\"]].astype(str) #присвоение строкам типа \"строка\"\n",
    "    df['timestamp']=pd.to_datetime(df.Date + ' ' + df.Time) #создание колонки с типом данных datetime\n",
    "    df_changed=df #создание нового датафрейма\n",
    "    df_changed.drop(['Date','Time'], inplace=True, axis=1) #убрать колонки Date and Time\n",
    "    titles=list(df_changed.columns)\n",
    "    titles[0],titles[16]=titles[16],titles[0] # смена порядка колонок\n",
    "    df_changed=df_changed[titles]\n",
    "    excl_list.append(df_changed)#добавляем новый элементв в конец\n",
    "excl_merged = pd.concat(excl_list, axis=0, ignore_index=False) #конкатенация всех листов\n",
    "excl_merged.head(4)"
   ]
  },
  {
   "cell_type": "code",
   "execution_count": 154,
   "metadata": {},
   "outputs": [],
   "source": [
    "excl_merged.to_excel('DATA_EXPORT/Total.xlsx', index = False)   "
   ]
  },
  {
   "cell_type": "markdown",
   "metadata": {},
   "source": [
    "## 2. Анализ массива данных"
   ]
  },
  {
   "cell_type": "code",
   "execution_count": null,
   "metadata": {},
   "outputs": [],
   "source": [
    "excl_merged.plot(figsize=(18, 5));"
   ]
  },
  {
   "cell_type": "code",
   "execution_count": 4,
   "metadata": {},
   "outputs": [],
   "source": []
  },
  {
   "cell_type": "code",
   "execution_count": 5,
   "metadata": {},
   "outputs": [],
   "source": []
  },
  {
   "cell_type": "code",
   "execution_count": 6,
   "metadata": {},
   "outputs": [
    {
     "name": "stdout",
     "output_type": "stream",
     "text": [
      "['DATA\\\\Daily Report 2-1-2021.xlsx', 'DATA\\\\Daily Report 2-2-2021.xlsx']\n"
     ]
    }
   ],
   "source": []
  },
  {
   "cell_type": "code",
   "execution_count": 7,
   "metadata": {},
   "outputs": [],
   "source": [
    "# list of excel files we want to merge.\n",
    "# pd.read_excel(file_path) reads the excel\n",
    "# data into pandas dataframe."
   ]
  },
  {
   "cell_type": "code",
   "execution_count": 24,
   "metadata": {},
   "outputs": [
    {
     "name": "stdout",
     "output_type": "stream",
     "text": [
      "1\n",
      "2\n"
     ]
    }
   ],
   "source": [
    "excl_list = []\n",
    "i=0\n",
    "for file in file_list:\n",
    "    df=pd.read_excel(file, sheet_name='Daily', usecols=\"A:R\", skiprows=0,nrows=5760, header = 0)\n",
    "    df.to_excel('DATA_CHANGED/' + str(i)+'.xlsx',header=True, index = False)\n",
    "    i=i+1\n",
    "    print(i)"
   ]
  },
  {
   "cell_type": "code",
   "execution_count": 18,
   "metadata": {},
   "outputs": [
    {
     "data": {
      "image/png": "[encoded data removed]",
      "text/plain": [
       "<Figure size 1296x360 with 1 Axes>"
      ]
     },
     "metadata": {
      "needs_background": "light"
     },
     "output_type": "display_data"
    }
   ],
   "source": [
    "excl_merged.plot(figsize=(18, 5));"
   ]
  },
  {
   "cell_type": "markdown",
   "metadata": {},
   "source": [
    "## Расчет корреляции двух рядов данных"
   ]
  },
  {
   "cell_type": "code",
   "execution_count": 2,
   "metadata": {},
   "outputs": [
    {
     "name": "stdout",
     "output_type": "stream",
     "text": [
      "  System type  R, bit/s  MTBF (year)\n",
      "0          SS   133.405           37\n",
      "1          PS   162.922          441\n",
      "2          CL   786.134          438\n",
      "3          IP  1146.229          448\n",
      "4          IR   444.442           51\n",
      "5          DR  1740.166        27917\n"
     ]
    }
   ],
   "source": [
    "#Расчет корреляции двух рядов данных\n",
    "Indicators = {'System type': ['SS','PS','CL','IP','IR','DR'], 'R, bit/s': [133.405, 162.922,786.134,1146.229,444.442,1740.166],\n",
    "        'MTBF (year)': [37,441,438,448,51,27917],\n",
    "                }\n",
    "df = pd.DataFrame(Indicators, columns = ['System type', 'R, bit/s','MTBF (year)'])\n",
    "\n",
    "print (df)"
   ]
  },
  {
   "cell_type": "code",
   "execution_count": 3,
   "metadata": {},
   "outputs": [
    {
     "name": "stdout",
     "output_type": "stream",
     "text": [
      "0       37\n",
      "1      441\n",
      "2      438\n",
      "3      448\n",
      "4       51\n",
      "5    27917\n",
      "Name: MTBF (year), dtype: int64\n"
     ]
    }
   ],
   "source": [
    "R=df.iloc[:,1],\n",
    "MTBF=df.iloc[:,2]\n",
    "print (MTBF)"
   ]
  },
  {
   "cell_type": "code",
   "execution_count": 6,
   "metadata": {},
   "outputs": [
    {
     "name": "stdout",
     "output_type": "stream",
     "text": [
      "[[3.91138917e+05 5.59247196e+06]\n",
      " [5.59247196e+06 1.27311103e+08]] Pearsons correlation: 0.793 Spearmans correlation: 0.829\n"
     ]
    }
   ],
   "source": [
    "# calculate Pearson's correlation\n",
    "covariance = cov(R, MTBF)\n",
    "corr, _ = pearsonr(df.iloc[:,1], df.iloc[:,2])\n",
    "corr1, _ = spearmanr(df.iloc[:,1], df.iloc[:,2])\n",
    "print(covariance, 'Pearsons correlation: %.3f' % corr, 'Spearmans correlation: %.3f' % corr1)"
   ]
  },
  {
   "cell_type": "code",
   "execution_count": null,
   "metadata": {},
   "outputs": [],
   "source": []
  },
  {
   "cell_type": "code",
   "execution_count": null,
   "metadata": {},
   "outputs": [],
   "source": []
  }
 ],
 "metadata": {
  "kernelspec": {
   "display_name": "Python 3",
   "language": "python",
   "name": "python3"
  },
  "language_info": {
   "codemirror_mode": {
    "name": "ipython",
    "version": 3
   },
   "file_extension": ".py",
   "mimetype": "text/x-python",
   "name": "python",
   "nbconvert_exporter": "python",
   "pygments_lexer": "ipython3",
   "version": "3.8.3"
  }
 },
 "nbformat": 4,
 "nbformat_minor": 4
}
