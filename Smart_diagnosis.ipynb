{
 "cells": [
  {
   "cell_type": "code",
   "execution_count": null,
   "metadata": {
    "pycharm": {
     "is_executing": true
    }
   },
   "outputs": [],
   "source": [
    "import pandas as pd\n",
    "import matplotlib.pyplot as plt\n",
    "import numpy as np\n",
    "from numpy import cov\n",
    "import csv\n",
    "import glob\n",
    "from scipy.stats import pearsonr,spearmanr"
   ]
  },
  {
   "cell_type": "markdown",
   "metadata": {},
   "source": [
    "## 1. Обработка данных"
   ]
  },
  {
   "cell_type": "code",
   "execution_count": null,
   "metadata": {},
   "outputs": [],
   "source": [
    "# specifying the path to csv files"
   ]
  },
  {
   "cell_type": "code",
   "execution_count": 69,
   "metadata": {},
   "outputs": [],
   "source": [
    "path = \"DATA/\""
   ]
  },
  {
   "cell_type": "code",
   "execution_count": 70,
   "metadata": {},
   "outputs": [],
   "source": [
    "# xlsx files in the path"
   ]
  },
  {
   "cell_type": "code",
   "execution_count": 71,
   "metadata": {},
   "outputs": [],
   "source": [
    "file_list = glob.glob(path + \"/*.xlsx\")"
   ]
  },
  {
   "cell_type": "code",
   "execution_count": 90,
   "metadata": {},
   "outputs": [
    {
     "name": "stdout",
     "output_type": "stream",
     "text": [
      "['DATA\\\\Daily Report 2-1-2021.XLSX', 'DATA\\\\Daily Report 2-2-2021.XLSX']\n"
     ]
    }
   ],
   "source": [
    "print(file_list)"
   ]
  },
  {
   "cell_type": "code",
   "execution_count": 91,
   "metadata": {},
   "outputs": [],
   "source": [
    "# list of excel files we want to merge.\n",
    "# pd.read_excel(file_path) reads the excel\n",
    "# data into pandas dataframe."
   ]
  },
  {
   "cell_type": "code",
   "execution_count": 92,
   "metadata": {},
   "outputs": [],
   "source": [
    "excl_list = []"
   ]
  },
  {
   "cell_type": "code",
   "execution_count": 176,
   "metadata": {},
   "outputs": [
    {
     "name": "stdout",
     "output_type": "stream",
     "text": [
      "1\n",
      "2\n"
     ]
    }
   ],
   "source": [
    "i=0\n",
    "for file in file_list:\n",
    "    df=pd.read_excel(file, sheet_name='Daily', usecols=\"A:R\", skiprows=1,nrows=5760, header = None)\n",
    "    df.to_excel('DATA_CHANGED/' + str(i)+'.xlsx',header=True, index = False)\n",
    "    i=i+1\n",
    "    print(i)"
   ]
  },
  {
   "cell_type": "code",
   "execution_count": 177,
   "metadata": {},
   "outputs": [
    {
     "name": "stdout",
     "output_type": "stream",
     "text": [
      "['DATA_CHANGED\\\\0.xlsx', 'DATA_CHANGED\\\\1.xlsx']\n"
     ]
    }
   ],
   "source": [
    "path1 = \"DATA_CHANGED/\"\n",
    "file_list1 = glob.glob(path1 + \"/*.xlsx\")\n",
    "print(file_list1)"
   ]
  },
  {
   "cell_type": "code",
   "execution_count": 189,
   "metadata": {},
   "outputs": [],
   "source": [
    "excl_list = []\n",
    "for file in file_list1:\n",
    "    excl_list.append(pd.read_excel(file))"
   ]
  },
  {
   "cell_type": "code",
   "execution_count": 199,
   "metadata": {},
   "outputs": [
    {
     "ename": "TypeError",
     "evalue": "'list' object is not callable",
     "output_type": "error",
     "traceback": [
      "\u001b[1;31m---------------------------------------------------------------------------\u001b[0m",
      "\u001b[1;31mTypeError\u001b[0m                                 Traceback (most recent call last)",
      "\u001b[1;32m<ipython-input-199-400daa1b4a30>\u001b[0m in \u001b[0;36m<module>\u001b[1;34m\u001b[0m\n\u001b[1;32m----> 1\u001b[1;33m \u001b[0mprint\u001b[0m\u001b[1;33m(\u001b[0m\u001b[0mexcl_list\u001b[0m\u001b[1;33m(\u001b[0m\u001b[1;36m2\u001b[0m\u001b[1;33m)\u001b[0m\u001b[1;33m)\u001b[0m\u001b[1;33m\u001b[0m\u001b[1;33m\u001b[0m\u001b[0m\n\u001b[0m",
      "\u001b[1;31mTypeError\u001b[0m: 'list' object is not callable"
     ]
    }
   ],
   "source": [
    "print(excl_list"
   ]
  },
  {
   "cell_type": "code",
   "execution_count": 191,
   "metadata": {},
   "outputs": [],
   "source": [
    "excl_merged = pd.concat(excl_list, axis=0, ignore_index=False)"
   ]
  },
  {
   "cell_type": "code",
   "execution_count": 192,
   "metadata": {},
   "outputs": [
    {
     "name": "stdout",
     "output_type": "stream",
     "text": [
      "             0         1   2          3   4     5          6           7   \\\n",
      "0    2021-02-01  00:00:00  69  78.531898   1  1711  11.932508   86.082176   \n",
      "1    2021-02-01  00:00:15  72  87.131073   1  1786  12.011719   38.682724   \n",
      "2    2021-02-01  00:00:30  72  87.131073   1  1786  12.011719   38.682724   \n",
      "3    2021-02-01  00:00:45  70  79.038269   1  1740  11.949870  363.299347   \n",
      "4    2021-02-01  00:01:00  71  86.344398   1  1765  12.011719   25.426794   \n",
      "...         ...       ...  ..        ...  ..   ...        ...         ...   \n",
      "5755 2021-02-02  23:58:45  69  61.405891   1  1724  12.011719  427.426941   \n",
      "5756 2021-02-02  23:59:00  69  62.644676   1  1724  12.011719  428.023712   \n",
      "5757 2021-02-02  23:59:15  69  61.523438   1  1724  12.011719  427.408844   \n",
      "5758 2021-02-02  23:59:30  69  62.337238   1  1724  11.934679  427.246094   \n",
      "5759 2021-02-02  23:59:45  69  62.698929   1  1724  12.011719  427.246094   \n",
      "\n",
      "            8          9          10        11     12     13         14  \\\n",
      "0     1.867694  76.106628  82.533424  9.548612  51010  100.0  91.634109   \n",
      "1     3.063368  76.118706  82.527382  7.646484  51010  100.0  91.116898   \n",
      "2     3.063368  76.118706  82.527382  7.646484  51010  100.0  91.116898   \n",
      "3     2.782335  76.118706  82.551537  7.327474  51010  100.0  90.917969   \n",
      "4     1.766565  76.106628  82.557579  8.840061  51010  100.0  91.276047   \n",
      "...        ...        ...        ...       ...    ...    ...        ...   \n",
      "5755  2.343750  75.442200  82.285767  7.045356  51303  100.0  92.140480   \n",
      "5756  2.797671  75.442200  82.285767  6.120876  51303  100.0  91.880066   \n",
      "5757  2.696398  75.466362  82.285767  2.458767  51303  100.0  92.126015   \n",
      "5758  2.412471  75.454285  82.285767  7.228733  51303  100.0  91.833046   \n",
      "5759  2.508319  75.466362  82.297852  6.018880  51303  100.0  91.825813   \n",
      "\n",
      "              15         16         17  \n",
      "0     100.025322  92.494934  52.535667  \n",
      "1     100.047012  92.715569  52.535667  \n",
      "2     100.047012  92.715569  52.535667  \n",
      "3     100.025322  92.661316  52.535667  \n",
      "4     100.018082  92.209206  52.540695  \n",
      "...          ...        ...        ...  \n",
      "5755  100.018082  91.847511  47.865128  \n",
      "5756   99.989151  91.804108  47.865128  \n",
      "5757  100.000000  91.833046  47.875183  \n",
      "5758   99.967453  91.851128  47.865128  \n",
      "5759  100.000000  91.521988  47.875183  \n",
      "\n",
      "[11520 rows x 18 columns]\n"
     ]
    }
   ],
   "source": [
    "print(excl_merged)"
   ]
  },
  {
   "cell_type": "code",
   "execution_count": 193,
   "metadata": {},
   "outputs": [],
   "source": [
    "excl_merged.to_excel('DATA_EXPORT/Total.xlsx', index = False)"
   ]
  },
  {
   "cell_type": "code",
   "execution_count": 195,
   "metadata": {},
   "outputs": [
    {
     "data": {
      "text/html": [
       "<div>\n",
       "<style scoped>\n",
       "    .dataframe tbody tr th:only-of-type {\n",
       "        vertical-align: middle;\n",
       "    }\n",
       "\n",
       "    .dataframe tbody tr th {\n",
       "        vertical-align: top;\n",
       "    }\n",
       "\n",
       "    .dataframe thead th {\n",
       "        text-align: right;\n",
       "    }\n",
       "</style>\n",
       "<table border=\"1\" class=\"dataframe\">\n",
       "  <thead>\n",
       "    <tr style=\"text-align: right;\">\n",
       "      <th></th>\n",
       "      <th>0</th>\n",
       "      <th>1</th>\n",
       "      <th>2</th>\n",
       "      <th>3</th>\n",
       "      <th>4</th>\n",
       "      <th>5</th>\n",
       "      <th>6</th>\n",
       "      <th>7</th>\n",
       "      <th>8</th>\n",
       "      <th>9</th>\n",
       "      <th>10</th>\n",
       "      <th>11</th>\n",
       "      <th>12</th>\n",
       "      <th>13</th>\n",
       "      <th>14</th>\n",
       "      <th>15</th>\n",
       "      <th>16</th>\n",
       "      <th>17</th>\n",
       "    </tr>\n",
       "  </thead>\n",
       "  <tbody>\n",
       "    <tr>\n",
       "      <th>0</th>\n",
       "      <td>2021-02-01</td>\n",
       "      <td>00:00:00</td>\n",
       "      <td>69</td>\n",
       "      <td>78.531898</td>\n",
       "      <td>1</td>\n",
       "      <td>1711</td>\n",
       "      <td>11.932508</td>\n",
       "      <td>86.082176</td>\n",
       "      <td>1.867694</td>\n",
       "      <td>76.106628</td>\n",
       "      <td>82.533424</td>\n",
       "      <td>9.548612</td>\n",
       "      <td>51010</td>\n",
       "      <td>100.0</td>\n",
       "      <td>91.634109</td>\n",
       "      <td>100.025322</td>\n",
       "      <td>92.494934</td>\n",
       "      <td>52.535667</td>\n",
       "    </tr>\n",
       "    <tr>\n",
       "      <th>1</th>\n",
       "      <td>2021-02-01</td>\n",
       "      <td>00:00:15</td>\n",
       "      <td>72</td>\n",
       "      <td>87.131073</td>\n",
       "      <td>1</td>\n",
       "      <td>1786</td>\n",
       "      <td>12.011719</td>\n",
       "      <td>38.682724</td>\n",
       "      <td>3.063368</td>\n",
       "      <td>76.118706</td>\n",
       "      <td>82.527382</td>\n",
       "      <td>7.646484</td>\n",
       "      <td>51010</td>\n",
       "      <td>100.0</td>\n",
       "      <td>91.116898</td>\n",
       "      <td>100.047012</td>\n",
       "      <td>92.715569</td>\n",
       "      <td>52.535667</td>\n",
       "    </tr>\n",
       "    <tr>\n",
       "      <th>2</th>\n",
       "      <td>2021-02-01</td>\n",
       "      <td>00:00:30</td>\n",
       "      <td>72</td>\n",
       "      <td>87.131073</td>\n",
       "      <td>1</td>\n",
       "      <td>1786</td>\n",
       "      <td>12.011719</td>\n",
       "      <td>38.682724</td>\n",
       "      <td>3.063368</td>\n",
       "      <td>76.118706</td>\n",
       "      <td>82.527382</td>\n",
       "      <td>7.646484</td>\n",
       "      <td>51010</td>\n",
       "      <td>100.0</td>\n",
       "      <td>91.116898</td>\n",
       "      <td>100.047012</td>\n",
       "      <td>92.715569</td>\n",
       "      <td>52.535667</td>\n",
       "    </tr>\n",
       "    <tr>\n",
       "      <th>3</th>\n",
       "      <td>2021-02-01</td>\n",
       "      <td>00:00:45</td>\n",
       "      <td>70</td>\n",
       "      <td>79.038269</td>\n",
       "      <td>1</td>\n",
       "      <td>1740</td>\n",
       "      <td>11.949870</td>\n",
       "      <td>363.299347</td>\n",
       "      <td>2.782335</td>\n",
       "      <td>76.118706</td>\n",
       "      <td>82.551537</td>\n",
       "      <td>7.327474</td>\n",
       "      <td>51010</td>\n",
       "      <td>100.0</td>\n",
       "      <td>90.917969</td>\n",
       "      <td>100.025322</td>\n",
       "      <td>92.661316</td>\n",
       "      <td>52.535667</td>\n",
       "    </tr>\n",
       "  </tbody>\n",
       "</table>\n",
       "</div>"
      ],
      "text/plain": [
       "          0         1   2          3   4     5          6           7   \\\n",
       "0 2021-02-01  00:00:00  69  78.531898   1  1711  11.932508   86.082176   \n",
       "1 2021-02-01  00:00:15  72  87.131073   1  1786  12.011719   38.682724   \n",
       "2 2021-02-01  00:00:30  72  87.131073   1  1786  12.011719   38.682724   \n",
       "3 2021-02-01  00:00:45  70  79.038269   1  1740  11.949870  363.299347   \n",
       "\n",
       "         8          9          10        11     12     13         14  \\\n",
       "0  1.867694  76.106628  82.533424  9.548612  51010  100.0  91.634109   \n",
       "1  3.063368  76.118706  82.527382  7.646484  51010  100.0  91.116898   \n",
       "2  3.063368  76.118706  82.527382  7.646484  51010  100.0  91.116898   \n",
       "3  2.782335  76.118706  82.551537  7.327474  51010  100.0  90.917969   \n",
       "\n",
       "           15         16         17  \n",
       "0  100.025322  92.494934  52.535667  \n",
       "1  100.047012  92.715569  52.535667  \n",
       "2  100.047012  92.715569  52.535667  \n",
       "3  100.025322  92.661316  52.535667  "
      ]
     },
     "execution_count": 195,
     "metadata": {},
     "output_type": "execute_result"
    }
   ],
   "source": [
    "excl_merged.head(4)"
   ]
  },
  {
   "cell_type": "code",
   "execution_count": 196,
   "metadata": {},
   "outputs": [
    {
     "data": {
      "image/png": "[encoded data removed]",
      "text/plain": [
       "<Figure size 1296x360 with 1 Axes>"
      ]
     },
     "metadata": {
      "needs_background": "light"
     },
     "output_type": "display_data"
    }
   ],
   "source": [
    "excl_merged.plot(figsize=(18, 5));"
   ]
  },
  {
   "cell_type": "markdown",
   "metadata": {},
   "source": [
    "## Расчет корреляции двух рядов данных"
   ]
  },
  {
   "cell_type": "code",
   "execution_count": 2,
   "metadata": {},
   "outputs": [
    {
     "name": "stdout",
     "output_type": "stream",
     "text": [
      "  System type  R, bit/s  MTBF (year)\n",
      "0          SS   133.405           37\n",
      "1          PS   162.922          441\n",
      "2          CL   786.134          438\n",
      "3          IP  1146.229          448\n",
      "4          IR   444.442           51\n",
      "5          DR  1740.166        27917\n"
     ]
    }
   ],
   "source": [
    "#Расчет корреляции двух рядов данных\n",
    "Indicators = {'System type': ['SS','PS','CL','IP','IR','DR'], 'R, bit/s': [133.405, 162.922,786.134,1146.229,444.442,1740.166],\n",
    "        'MTBF (year)': [37,441,438,448,51,27917],\n",
    "                }\n",
    "df = pd.DataFrame(Indicators, columns = ['System type', 'R, bit/s','MTBF (year)'])\n",
    "\n",
    "print (df)"
   ]
  },
  {
   "cell_type": "code",
   "execution_count": 3,
   "metadata": {},
   "outputs": [
    {
     "name": "stdout",
     "output_type": "stream",
     "text": [
      "0       37\n",
      "1      441\n",
      "2      438\n",
      "3      448\n",
      "4       51\n",
      "5    27917\n",
      "Name: MTBF (year), dtype: int64\n"
     ]
    }
   ],
   "source": [
    "R=df.iloc[:,1],\n",
    "MTBF=df.iloc[:,2]\n",
    "print (MTBF)"
   ]
  },
  {
   "cell_type": "code",
   "execution_count": 6,
   "metadata": {},
   "outputs": [
    {
     "name": "stdout",
     "output_type": "stream",
     "text": [
      "[[3.91138917e+05 5.59247196e+06]\n",
      " [5.59247196e+06 1.27311103e+08]] Pearsons correlation: 0.793 Spearmans correlation: 0.829\n"
     ]
    }
   ],
   "source": [
    "# calculate Pearson's correlation\n",
    "covariance = cov(R, MTBF)\n",
    "corr, _ = pearsonr(df.iloc[:,1], df.iloc[:,2])\n",
    "corr1, _ = spearmanr(df.iloc[:,1], df.iloc[:,2])\n",
    "print(covariance, 'Pearsons correlation: %.3f' % corr, 'Spearmans correlation: %.3f' % corr1)"
   ]
  },
  {
   "cell_type": "code",
   "execution_count": null,
   "metadata": {},
   "outputs": [],
   "source": []
  },
  {
   "cell_type": "code",
   "execution_count": null,
   "metadata": {},
   "outputs": [],
   "source": []
  }
 ],
 "metadata": {
  "kernelspec": {
   "display_name": "Python 3",
   "language": "python",
   "name": "python3"
  },
  "language_info": {
   "codemirror_mode": {
    "name": "ipython",
    "version": 3
   },
   "file_extension": ".py",
   "mimetype": "text/x-python",
   "name": "python",
   "nbconvert_exporter": "python",
   "pygments_lexer": "ipython3",
   "version": "3.8.3"
  }
 },
 "nbformat": 4,
 "nbformat_minor": 4
}
